{
  "nbformat": 4,
  "nbformat_minor": 0,
  "metadata": {
    "colab": {
      "name": "Review attitudes.ipynb",
      "provenance": []
    },
    "kernelspec": {
      "name": "python3",
      "display_name": "Python 3"
    },
    "language_info": {
      "name": "python"
    }
  },
  "cells": [
    {
      "cell_type": "markdown",
      "metadata": {
        "id": "4o5IhDRxdMxu"
      },
      "source": [
        "# Read csv file from Google Drive"
      ]
    },
    {
      "cell_type": "code",
      "metadata": {
        "colab": {
          "base_uri": "https://localhost:8080/"
        },
        "id": "reYdIeE_VVbx",
        "outputId": "a4fc4b43-055f-48fd-b785-694f876dfa65"
      },
      "source": [
        "from google.colab import drive\n",
        "drive.mount('/content/drive')"
      ],
      "execution_count": 36,
      "outputs": [
        {
          "output_type": "stream",
          "name": "stdout",
          "text": [
            "Drive already mounted at /content/drive; to attempt to forcibly remount, call drive.mount(\"/content/drive\", force_remount=True).\n"
          ]
        }
      ]
    },
    {
      "cell_type": "markdown",
      "metadata": {
        "id": "NamU9accdYmP"
      },
      "source": [
        "#Load customers' review file, generate it into a Feedback file"
      ]
    },
    {
      "cell_type": "code",
      "metadata": {
        "id": "ijM6m9jEUbdb"
      },
      "source": [
        "import csv\n",
        "feedbacks = []\n",
        "counter = 0\n",
        "with open('/content/drive/MyDrive/Colab Notebooks/Feedback.csv', mode='r', encoding='utf8') as csv_file:\n",
        "    reader = csv.DictReader(csv_file)\n",
        "    for row in reader:\n",
        "        counter+=1\n",
        "        if (counter <= 9):\n",
        "            feedbacks.append(row['Title'] + '.')"
      ],
      "execution_count": 37,
      "outputs": []
    },
    {
      "cell_type": "markdown",
      "metadata": {
        "id": "SPmOv_47d4RV"
      },
      "source": [
        "# Use Azure Text Analytics function to analyze customers' reviews"
      ]
    },
    {
      "cell_type": "code",
      "metadata": {
        "colab": {
          "base_uri": "https://localhost:8080/"
        },
        "id": "5bwbKrQ2aZYT",
        "outputId": "94c636e8-9816-4979-9592-9db80bdb7401"
      },
      "source": [
        "pip install azure.ai.textanalytics"
      ],
      "execution_count": 38,
      "outputs": [
        {
          "output_type": "stream",
          "name": "stdout",
          "text": [
            "Requirement already satisfied: azure.ai.textanalytics in /usr/local/lib/python3.7/dist-packages (5.1.0)\n",
            "Requirement already satisfied: azure-common~=1.1 in /usr/local/lib/python3.7/dist-packages (from azure.ai.textanalytics) (1.1.27)\n",
            "Requirement already satisfied: msrest>=0.6.21 in /usr/local/lib/python3.7/dist-packages (from azure.ai.textanalytics) (0.6.21)\n",
            "Requirement already satisfied: azure-core<2.0.0,>=1.14.0 in /usr/local/lib/python3.7/dist-packages (from azure.ai.textanalytics) (1.20.1)\n",
            "Requirement already satisfied: six>=1.11.0 in /usr/local/lib/python3.7/dist-packages (from azure.ai.textanalytics) (1.15.0)\n",
            "Requirement already satisfied: requests>=2.18.4 in /usr/local/lib/python3.7/dist-packages (from azure-core<2.0.0,>=1.14.0->azure.ai.textanalytics) (2.23.0)\n",
            "Requirement already satisfied: requests-oauthlib>=0.5.0 in /usr/local/lib/python3.7/dist-packages (from msrest>=0.6.21->azure.ai.textanalytics) (1.3.0)\n",
            "Requirement already satisfied: isodate>=0.6.0 in /usr/local/lib/python3.7/dist-packages (from msrest>=0.6.21->azure.ai.textanalytics) (0.6.0)\n",
            "Requirement already satisfied: certifi>=2017.4.17 in /usr/local/lib/python3.7/dist-packages (from msrest>=0.6.21->azure.ai.textanalytics) (2021.10.8)\n",
            "Requirement already satisfied: urllib3!=1.25.0,!=1.25.1,<1.26,>=1.21.1 in /usr/local/lib/python3.7/dist-packages (from requests>=2.18.4->azure-core<2.0.0,>=1.14.0->azure.ai.textanalytics) (1.24.3)\n",
            "Requirement already satisfied: chardet<4,>=3.0.2 in /usr/local/lib/python3.7/dist-packages (from requests>=2.18.4->azure-core<2.0.0,>=1.14.0->azure.ai.textanalytics) (3.0.4)\n",
            "Requirement already satisfied: idna<3,>=2.5 in /usr/local/lib/python3.7/dist-packages (from requests>=2.18.4->azure-core<2.0.0,>=1.14.0->azure.ai.textanalytics) (2.10)\n",
            "Requirement already satisfied: oauthlib>=3.0.0 in /usr/local/lib/python3.7/dist-packages (from requests-oauthlib>=0.5.0->msrest>=0.6.21->azure.ai.textanalytics) (3.1.1)\n"
          ]
        }
      ]
    },
    {
      "cell_type": "markdown",
      "metadata": {
        "id": "wmW8k7qCeA0l"
      },
      "source": [
        "# Providing Key and endPoint to access the Azure text analytics service"
      ]
    },
    {
      "cell_type": "markdown",
      "metadata": {
        "id": "vnKiVgIveYm2"
      },
      "source": [
        ""
      ]
    },
    {
      "cell_type": "code",
      "metadata": {
        "id": "Khvi3Wvhbog1"
      },
      "source": [
        "key = \"23d7a167c2694d3ca8db63fbea7a4f7c\"\n",
        "endPoint = \"https://cognitiveservices-qli.cognitiveservices.azure.com/\""
      ],
      "execution_count": 39,
      "outputs": []
    },
    {
      "cell_type": "markdown",
      "metadata": {
        "id": "vXuulI_EeJf9"
      },
      "source": [
        "#Identify and analyze customers' reviews"
      ]
    },
    {
      "cell_type": "code",
      "metadata": {
        "colab": {
          "base_uri": "https://localhost:8080/"
        },
        "id": "e6K0fN_hagcI",
        "outputId": "3a4e58b2-311e-4ddf-b268-3dcf3da132ed"
      },
      "source": [
        "from azure.ai.textanalytics import TextAnalyticsClient\n",
        "from azure.core.credentials import AzureKeyCredential\n",
        "\n",
        "client = TextAnalyticsClient(endpoint=endPoint, credential=AzureKeyCredential(key))\n",
        "response = client.analyze_sentiment(documents=feedbacks)\n",
        "review = type('', (), {'positive':0, 'negative':0, 'neutral':0})()\n",
        "for idx, sentence in enumerate(response):\n",
        "    print(\"Sentence {}: {}\".format(idx+1, sentence.sentiment))\n",
        "    if(sentence.sentiment == \"positive\"):\n",
        "        review.positive = review.positive + 1\n",
        "    elif (sentence.sentiment == \"negative\"):\n",
        "        review.negative = review.negative + 1\n",
        "    else:\n",
        "        review.neutral = review.neutral + 1"
      ],
      "execution_count": 40,
      "outputs": [
        {
          "output_type": "stream",
          "name": "stdout",
          "text": [
            "Sentence 1: neutral\n",
            "Sentence 2: neutral\n",
            "Sentence 3: negative\n",
            "Sentence 4: positive\n",
            "Sentence 5: positive\n",
            "Sentence 6: negative\n",
            "Sentence 7: positive\n",
            "Sentence 8: neutral\n",
            "Sentence 9: positive\n"
          ]
        }
      ]
    },
    {
      "cell_type": "markdown",
      "metadata": {
        "id": "ntWeZrD3eO84"
      },
      "source": [
        "# Show the result of different attitudes"
      ]
    },
    {
      "cell_type": "code",
      "metadata": {
        "colab": {
          "base_uri": "https://localhost:8080/",
          "height": 354
        },
        "id": "J-Bj69SGbzAd",
        "outputId": "ea96d114-afc7-4ff8-933e-19dc851dde88"
      },
      "source": [
        "import matplotlib.pyplot as plot\n",
        "figure = plot.figure()\n",
        "ax = figure.add_axes([0,0,1,1])\n",
        "x_values = ['Positive', 'Negative', 'Neutral']\n",
        "y_values = [review.positive, review.negative, review.neutral]\n",
        "ax.bar(x_values, y_values)"
      ],
      "execution_count": 41,
      "outputs": [
        {
          "output_type": "execute_result",
          "data": {
            "text/plain": [
              "<BarContainer object of 3 artists>"
            ]
          },
          "metadata": {},
          "execution_count": 41
        },
        {
          "output_type": "display_data",
          "data": {
            "image/png": "[encoded data removed]",
            "text/plain": [
              "<Figure size 432x288 with 1 Axes>"
            ]
          },
          "metadata": {
            "needs_background": "light"
          }
        }
      ]
    },
    {
      "cell_type": "markdown",
      "metadata": {
        "id": "aCkYlPL7dLoa"
      },
      "source": [
        ""
      ]
    }
  ]
}